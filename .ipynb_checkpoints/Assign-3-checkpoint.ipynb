{
 "cells": [
  {
   "cell_type": "markdown",
   "id": "dd02bcac-878d-4f58-8b8c-01113bcd0130",
   "metadata": {},
   "source": [
    "## Question 1"
   ]
  },
  {
   "cell_type": "code",
   "execution_count": 1,
   "id": "c3af7450-ed8f-4189-9f77-459f1c2f556c",
   "metadata": {},
   "outputs": [
    {
     "name": "stdin",
     "output_type": "stream",
     "text": [
      "Enter your age:  20\n",
      "Enter your credit score: 800\n",
      "Enter your annual income: 30000\n"
     ]
    },
    {
     "name": "stdout",
     "output_type": "stream",
     "text": [
      "Eligible for loan\n"
     ]
    }
   ],
   "source": [
    "age = int(input(\"Enter your age: \"))\n",
    "credit_score = int(input(\"Enter your credit score:\"))\n",
    "income = float(input(\"Enter your annual income:\"))\n",
    "if age >=18:\n",
    "    if credit_score >=650:\n",
    "        if income >= 30000:\n",
    "            print(\"Eligible for loan\")\n",
    "    elif credit_score >= 700:\n",
    "        if income >= 25000:\n",
    "            print(\"Eligible for loan\")\n",
    "else:\n",
    "      print(\"Not Eligible for loan\")\n",
    "        \n"
   ]
  },
  {
   "cell_type": "code",
   "execution_count": null,
   "id": "7b754960-c187-416b-803e-df3cd414e3db",
   "metadata": {},
   "outputs": [],
   "source": []
  },
  {
   "cell_type": "markdown",
   "id": "459c0309-e20f-4f6e-8e42-47066ddd0a47",
   "metadata": {},
   "source": [
    "## Question 2"
   ]
  },
  {
   "cell_type": "code",
   "execution_count": 4,
   "id": "b793c28f-970a-4a5e-897f-577c61019885",
   "metadata": {},
   "outputs": [
    {
     "name": "stdin",
     "output_type": "stream",
     "text": [
      "Enter your age: 20\n",
      "Enter your years of experience: 2\n"
     ]
    },
    {
     "name": "stdout",
     "output_type": "stream",
     "text": [
      "You are relatively new\n"
     ]
    }
   ],
   "source": [
    "age = int(input(\"Enter your age:\"))\n",
    "if age >= 18:\n",
    "    experience_years = float(input(\"Enter your years of experience:\"))\n",
    "    if experience_years >=10:\n",
    "        print(\"You have alot of experience\")\n",
    "    elif experience_years >= 5:\n",
    "        print(\"You have a moderate experience\")\n",
    "    elif experience_years >= 2 :\n",
    "        print(\"You are relatively new\")\n",
    "    else:\n",
    "         print(\"You are just starting out\")\n",
    "else: \n",
    "         print(\"You are underage\")\n",
    "        "
   ]
  },
  {
   "cell_type": "code",
   "execution_count": null,
   "id": "82477680-3096-49d9-927a-76e3e6b7803e",
   "metadata": {},
   "outputs": [],
   "source": []
  },
  {
   "cell_type": "markdown",
   "id": "844b78d7-65e2-43e4-af1e-9fb969ac6a9f",
   "metadata": {},
   "source": [
    "## Question 3"
   ]
  },
  {
   "cell_type": "markdown",
   "id": "f8d3e042-6b54-4012-8a15-c4a02eb6932e",
   "metadata": {},
   "source": [
    "### Took Help from Chat gpt but still wasn't able to understand some concepts"
   ]
  },
  {
   "cell_type": "code",
   "execution_count": 6,
   "id": "cb8aedd2-9692-4f8a-a917-b0cb4134e41c",
   "metadata": {},
   "outputs": [
    {
     "name": "stdout",
     "output_type": "stream",
     "text": [
      "Memory addresses :\n",
      "integer: 140708381207096\n",
      "float: 3023198398608\n",
      "string: 140708381267456\n",
      "list: 3023203512576\n",
      "tuple: 140708381207096\n"
     ]
    }
   ],
   "source": [
    "      ###  A part\n",
    "\n",
    "int_var = 5\n",
    "float_var = 5.0\n",
    "str_var = \"5\"\n",
    "list_var = [5]\n",
    "tuple_var =(5)\n",
    "print(\"Memory addresses :\")\n",
    "print(\"integer:\",id(int_var))\n",
    "print(\"float:\",id(float_var))\n",
    "print(\"string:\",id(str_var))\n",
    "print(\"list:\",id(list_var))\n",
    "print(\"tuple:\",id(tuple_var))\n"
   ]
  },
  {
   "cell_type": "code",
   "execution_count": 7,
   "id": "141cf637-58fa-43c6-8d87-9db1c859072a",
   "metadata": {},
   "outputs": [
    {
     "name": "stdout",
     "output_type": "stream",
     "text": [
      "Memory size by Data Type:\n",
      "Integer: 28 bytes\n",
      "Float: 24 bytes\n",
      "String: 42 bytes\n",
      "List 64 bytes\n",
      "Tuple 28 bytes\n"
     ]
    }
   ],
   "source": [
    "### B part\n",
    "import sys\n",
    "int_var = 5\n",
    "float_var = 5.0\n",
    "str_var = \"5\"\n",
    "list_var = [5]\n",
    "tuple_var =(5)\n",
    "print(\"Memory size by Data Type:\")\n",
    "print(\"Integer:\",sys.getsizeof(int_var),\"bytes\")\n",
    "print(\"Float:\",sys.getsizeof(float_var),\"bytes\")\n",
    "print(\"String:\",sys.getsizeof(str_var),\"bytes\")\n",
    "print(\"List\",sys.getsizeof(list_var),\"bytes\")\n",
    "print(\"Tuple\",sys.getsizeof(tuple_var),\"bytes\")\n",
    "\n",
    "\n"
   ]
  },
  {
   "cell_type": "code",
   "execution_count": null,
   "id": "23accbc0-a38c-4bee-8577-0e0d42c417fe",
   "metadata": {},
   "outputs": [],
   "source": []
  },
  {
   "cell_type": "code",
   "execution_count": 4,
   "id": "0e055862-d1b5-47f5-9b39-c6f62912ca45",
   "metadata": {},
   "outputs": [
    {
     "name": "stdout",
     "output_type": "stream",
     "text": [
      "Memory Sizes by Data Type:\n",
      "int: 28 bytes\n",
      "float: 24 bytes\n",
      "str: 43 bytes\n",
      "list: 64 bytes\n",
      "tuple: 48 bytes\n",
      "set: 216 bytes\n",
      "dict: 184 bytes\n",
      "bool: 28 bytes\n",
      "\n",
      "Data type with the least memory usage: float\n"
     ]
    }
   ],
   "source": [
    "import sys\n",
    "\n",
    "# Define variables of different data types\n",
    "variables = [\n",
    "    42,                # Integer\n",
    "    42.0,              # Float\n",
    "    \"42\",              # String\n",
    "    [42],              # List\n",
    "    (42,),             # Tuple\n",
    "    {42},              # Set\n",
    "    {'key': 42},       # Dictionary\n",
    "    True               # Boolean\n",
    "]\n",
    "\n",
    "# List to store (data type, memory size) pairs\n",
    "memory_sizes = []\n",
    "\n",
    "# Calculate memory size and append to the list\n",
    "for var in variables:\n",
    "    memory_sizes.append((type(var), sys.getsizeof(var)))\n",
    "\n",
    "# Find the data type with the least memory usage\n",
    "least_memory_type = min(memory_sizes, key=lambda x: x[1])\n",
    "\n",
    "# Output results\n",
    "print(\"Memory Sizes by Data Type:\")\n",
    "for dtype, size in memory_sizes:\n",
    "    print(f\"{dtype.__name__}: {size} bytes\")\n",
    "\n",
    "print(\"\\nData type with the least memory usage:\", least_memory_type[0].__name__)\n"
   ]
  },
  {
   "cell_type": "code",
   "execution_count": 8,
   "id": "2fc42ecf-5af6-4285-aa48-8be9c6f6a7f3",
   "metadata": {},
   "outputs": [],
   "source": [
    "### C part"
   ]
  },
  {
   "cell_type": "code",
   "execution_count": 5,
   "id": "d14dfda3-a383-41d3-a994-e1ea3d2566cf",
   "metadata": {},
   "outputs": [
    {
     "name": "stdout",
     "output_type": "stream",
     "text": [
      "Data type with the lowest memory size: float (Variable: b, Size: 24 bytes)\n"
     ]
    }
   ],
   "source": [
    "import sys\n",
    "\n",
    "# Define variables\n",
    "variables = {\n",
    "    'a': 10,\n",
    "    'b': 10.5,\n",
    "    'c': 'hello',\n",
    "    'd': [1, 2, 3],\n",
    "    'e': (1, 2, 3),\n",
    "    'f': {1, 2, 3},\n",
    "    'g': {'key': 'value'}\n",
    "}\n",
    "\n",
    "# Get memory sizes\n",
    "memory_sizes = {name: sys.getsizeof(value) for name, value in variables.items()}\n",
    "\n",
    "# Find and print the result directly\n",
    "print(f\"Data type with the lowest memory size: {type(variables[min(memory_sizes, key=memory_sizes.get)]).__name__} \"\n",
    "      f\"(Variable: {min(memory_sizes, key=memory_sizes.get)}, Size: {memory_sizes[min(memory_sizes, key=memory_sizes.get)]} bytes)\")\n"
   ]
  },
  {
   "cell_type": "code",
   "execution_count": null,
   "id": "a234e087-4633-47b6-8f24-69ee675580dc",
   "metadata": {},
   "outputs": [],
   "source": []
  },
  {
   "cell_type": "markdown",
   "id": "2d731c16-4b72-433e-b03d-4614192c5bc2",
   "metadata": {},
   "source": [
    "## Question 4"
   ]
  },
  {
   "cell_type": "code",
   "execution_count": 10,
   "id": "00559d0f-70be-4b3c-8b24-a282b7808e4e",
   "metadata": {},
   "outputs": [
    {
     "name": "stdin",
     "output_type": "stream",
     "text": [
      "Enter your email address: muniambakhtiar787@gmail.com\n"
     ]
    },
    {
     "name": "stdout",
     "output_type": "stream",
     "text": [
      "Email Address is Valid\n"
     ]
    }
   ],
   "source": [
    "email_address = input(\"Enter your email address:\")\n",
    "if '@' in email_address or '.' in email_address:\n",
    "    print(\"Email Address is Valid\")\n",
    "else:\n",
    "     print(\"Invalid Email Address\")"
   ]
  },
  {
   "cell_type": "code",
   "execution_count": null,
   "id": "b7129b80-29fd-4b38-990e-d43b7bcbdd73",
   "metadata": {},
   "outputs": [],
   "source": []
  },
  {
   "cell_type": "markdown",
   "id": "80c3f509-4aca-40e6-b9c8-b9538adc4eda",
   "metadata": {},
   "source": [
    "## Question 5"
   ]
  },
  {
   "cell_type": "code",
   "execution_count": 12,
   "id": "9594cd59-799b-4124-ae74-b84718aa4237",
   "metadata": {},
   "outputs": [],
   "source": [
    "\n",
    "    "
   ]
  },
  {
   "cell_type": "code",
   "execution_count": 3,
   "id": "21568e62-9756-4c4a-bffb-8052ef4d68e5",
   "metadata": {},
   "outputs": [
    {
     "name": "stdout",
     "output_type": "stream",
     "text": [
      "Data types of tuple elements: ['int', 'float', 'str', 'list', 'tuple']\n"
     ]
    }
   ],
   "source": [
    "x = (11, 22.333, 'apple', [1, 2, 3], ('a', 'b'))\n",
    "\n",
    "data_types = []\n",
    "\n",
    "for element in x:\n",
    "    data_types.append(type(element).__name__)\n",
    "\n",
    "print(\"Data types of tuple elements:\", data_types)\n"
   ]
  },
  {
   "cell_type": "code",
   "execution_count": 4,
   "id": "f51a70d3-3419-4ceb-84cf-bc4269e9398c",
   "metadata": {},
   "outputs": [],
   "source": []
  },
  {
   "cell_type": "markdown",
   "id": "c87fc35a-f994-4235-b059-985b89aeee8a",
   "metadata": {},
   "source": [
    "## Question 6"
   ]
  },
  {
   "cell_type": "code",
   "execution_count": null,
   "id": "37342da0-b726-4fd7-bbc4-19fe95ec357a",
   "metadata": {},
   "outputs": [],
   "source": []
  },
  {
   "cell_type": "code",
   "execution_count": null,
   "id": "9b5c8cfa-64f9-419c-b9fb-bce25c1ed342",
   "metadata": {},
   "outputs": [],
   "source": []
  },
  {
   "cell_type": "code",
   "execution_count": 21,
   "id": "f4f9bcab-411c-49cd-a9b1-debcc969c949",
   "metadata": {},
   "outputs": [
    {
     "name": "stdin",
     "output_type": "stream",
     "text": [
      "Enter your username:  alice\n"
     ]
    },
    {
     "name": "stdout",
     "output_type": "stream",
     "text": [
      "alice exists in the active users list.\n",
      "alice is the admin.\n"
     ]
    }
   ],
   "source": [
    "\n",
    "active_users = [(\"alice\", \"admin\"),\n",
    "                (\"bob\", \"user\"),\n",
    "                (\"charlie\", \"moderator\")]\n",
    "\n",
    "# Input username to check\n",
    "username_tocheck = input(\"Enter your username: \").strip()\n",
    "\n",
    "usernames = [user[0] for user in active_users]\n",
    "\n",
    "if username_tocheck in usernames:\n",
    "    \n",
    "    user_index = usernames.index(username_tocheck)\n",
    "    role = active_users[user_index][1]\n",
    "\n",
    "    print(f\"{username_tocheck} exists in the active users list.\")\n",
    "    if role == \"admin\":\n",
    "        print(f\"{username_tocheck} is the admin.\")\n",
    "    else:\n",
    "        print(f\"{username_tocheck} is not the admin.\")\n",
    "    \n",
    "else:\n",
    "    print(f\"{username_tocheck} does not exist in the active users list.\")\n"
   ]
  },
  {
   "cell_type": "code",
   "execution_count": null,
   "id": "e22e8237-f210-4055-b37f-ef3766c0e3d3",
   "metadata": {},
   "outputs": [],
   "source": []
  },
  {
   "cell_type": "markdown",
   "id": "08df283b-c505-4614-b003-9e98a522d40c",
   "metadata": {},
   "source": [
    "## Question 7"
   ]
  },
  {
   "cell_type": "code",
   "execution_count": 27,
   "id": "af13633c-9ad9-45bb-980f-2712272a25b9",
   "metadata": {},
   "outputs": [
    {
     "name": "stdout",
     "output_type": "stream",
     "text": [
      "True\n",
      "Relation: Siblings\n",
      "Relation:Cousin\n"
     ]
    }
   ],
   "source": [
    "person1 = ['ali','perry','nottingham','1,2,3']\n",
    "person2 = ['ali','perry','nottingham','1,2,3']\n",
    "person3 = ['ahmed','dean','birmingham','1,2,3']\n",
    "\n",
    "## For checking out the relationship between the siblings\n",
    "\n",
    "\n",
    "person1 = person2\n",
    "print(person1 is person2)\n",
    "print(\"Relation: Siblings\")\n",
    "\n",
    "## For checking out the relationship between the cousins\n",
    "if person1 is not person3:\n",
    "    print(\"Relation:Cousin\")\n",
    "else:\n",
    "     print(\"Relation: Not Cousins\")\n",
    "    "
   ]
  },
  {
   "cell_type": "code",
   "execution_count": null,
   "id": "97ff5988-0db7-42df-88ad-c824c1097b68",
   "metadata": {},
   "outputs": [],
   "source": []
  },
  {
   "cell_type": "markdown",
   "id": "069aee23-08c2-47c4-a9ed-a4ce707ef28a",
   "metadata": {},
   "source": [
    "## Question 8"
   ]
  },
  {
   "cell_type": "code",
   "execution_count": 30,
   "id": "414fa852-4b3f-49b1-9591-9cca0f0c4b34",
   "metadata": {},
   "outputs": [
    {
     "name": "stdin",
     "output_type": "stream",
     "text": [
      "Enter the title of book: Pakistan\n",
      "Enter the author of book: Imran Khan\n",
      "Enter the year of publishing: 2011\n",
      "Enter the price of book: 15\n"
     ]
    },
    {
     "name": "stdout",
     "output_type": "stream",
     "text": [
      "Book title: Pakistan\n",
      "Book Author: Imran Khan\n",
      "Publishing year: 2011\n",
      "Book Price: $15.0\n"
     ]
    }
   ],
   "source": [
    "title = input(\"Enter the title of book:\")\n",
    "author = input(\"Enter the author of book:\")\n",
    "year = int(input(\"Enter the year of publishing:\"))\n",
    "price = float(input(\"Enter the price of book:\"))\n",
    "book_detail = (title,author,year,price)\n",
    "print(f\"Book title: {book_detail[0]}\")\n",
    "print(f\"Book Author: {book_detail[1]}\")\n",
    "print(f\"Publishing year: {book_detail[2]}\")\n",
    "print(f\"Book Price: ${book_detail[3]}\")"
   ]
  },
  {
   "cell_type": "code",
   "execution_count": null,
   "id": "35b4e050-d902-4de3-b722-7dec3d2202cb",
   "metadata": {},
   "outputs": [],
   "source": []
  },
  {
   "cell_type": "markdown",
   "id": "673d160e-5208-4b09-a103-294eb7256952",
   "metadata": {},
   "source": [
    "## Question 9"
   ]
  },
  {
   "cell_type": "code",
   "execution_count": 32,
   "id": "45588dd2-54ec-4ab3-aa9e-e06936ab31f6",
   "metadata": {},
   "outputs": [
    {
     "name": "stdin",
     "output_type": "stream",
     "text": [
      "Enter your chosen subjects: English\n"
     ]
    },
    {
     "name": "stdout",
     "output_type": "stream",
     "text": [
      "English is available\n"
     ]
    }
   ],
   "source": [
    "subjects = ('Physics','Chemistry','Biology','Maths','English','Urdu')\n",
    "chosen_sub = str(input(\"Enter your chosen subjects:\"))\n",
    "if chosen_sub in subjects:\n",
    "    print(f\"{chosen_sub} is available\")\n",
    "else: \n",
    "     print(f\"{chosen_sub} is not available\")"
   ]
  },
  {
   "cell_type": "code",
   "execution_count": null,
   "id": "b079c68a-b2b2-46aa-a405-2515a759e11e",
   "metadata": {},
   "outputs": [],
   "source": []
  },
  {
   "cell_type": "code",
   "execution_count": null,
   "id": "59aa6318-d577-4757-a314-92fefd5506f1",
   "metadata": {},
   "outputs": [],
   "source": []
  },
  {
   "cell_type": "markdown",
   "id": "7a563575-e513-42b7-9731-81356eb26869",
   "metadata": {},
   "source": [
    "## Question 10"
   ]
  },
  {
   "cell_type": "code",
   "execution_count": 45,
   "id": "d3fc7a47-cffe-43d8-8fdf-79aeb70eedeb",
   "metadata": {},
   "outputs": [
    {
     "name": "stdout",
     "output_type": "stream",
     "text": [
      "The tuple of a numbers is(1, 2, 2, 2, 3, 4, 3, 3, 5, 6, 1, 7, 8)\n"
     ]
    },
    {
     "name": "stdin",
     "output_type": "stream",
     "text": [
      "Enter a number to find its first occurence: 2\n"
     ]
    },
    {
     "name": "stdout",
     "output_type": "stream",
     "text": [
      "The number 2 first occurs at index 1\n"
     ]
    },
    {
     "name": "stdin",
     "output_type": "stream",
     "text": [
      "Enter a number to count its occurences: 3\n"
     ]
    },
    {
     "name": "stdout",
     "output_type": "stream",
     "text": [
      "The number 3 appears 3 times in the tuple\n"
     ]
    }
   ],
   "source": [
    "number = (1,2,2,2,3,4,3,3,5,6,1,7,8)\n",
    "\n",
    "print(f\"The tuple of a numbers is{number}\")\n",
    "\n",
    "num = int(input(\"Enter a number to find its first occurence:\"))\n",
    "if num in number:\n",
    "    index = number.index(num)\n",
    "    print(f\"The number {num} first occurs at index {index}\")\n",
    "else:\n",
    "     print(f\"The number is not found in the tuple\")\n",
    "\n",
    "## For checking the count of the number\n",
    "num2 = int(input(\"Enter a number to count its occurences:\"))\n",
    "count = number.count(num2)\n",
    "print(f\"The number {num2} appears {count} times in the tuple\")\n",
    "\n"
   ]
  },
  {
   "cell_type": "code",
   "execution_count": null,
   "id": "ea878902-a3ad-4a98-8fda-4153a9da5ec5",
   "metadata": {},
   "outputs": [],
   "source": []
  },
  {
   "cell_type": "markdown",
   "id": "5726707f-ef87-4733-84f0-33869b603acb",
   "metadata": {},
   "source": [
    "##  Hard Question (Not mandatory)"
   ]
  },
  {
   "cell_type": "code",
   "execution_count": 49,
   "id": "9c901883-76fc-4cf9-9d47-d33c304398a2",
   "metadata": {},
   "outputs": [
    {
     "name": "stdin",
     "output_type": "stream",
     "text": [
      "Enter the Current Temperature(Celsius): -10\n"
     ]
    },
    {
     "name": "stdout",
     "output_type": "stream",
     "text": [
      "Its extremely cold outside\n"
     ]
    }
   ],
   "source": [
    "Freezing = -5\n",
    "Normal = 25\n",
    "Hot =  40\n",
    "\n",
    "temp = float(input(\"Enter the Current Temperature(Celsius):\"))\n",
    "if temp >= Hot:\n",
    "    print(\"Its hot outside\")\n",
    "elif temp >= Normal:\n",
    "    print(\"Its normal outside\")\n",
    "elif temp > Freezing:\n",
    "    print(\"Its freezing outside\")\n",
    "else:\n",
    "    print(\"Its extremely cold outside\")\n"
   ]
  },
  {
   "cell_type": "code",
   "execution_count": null,
   "id": "9b83a646-7218-43b5-8ba9-92e323700bbb",
   "metadata": {},
   "outputs": [],
   "source": [
    "  "
   ]
  }
 ],
 "metadata": {
  "kernelspec": {
   "display_name": "Python 3 (ipykernel)",
   "language": "python",
   "name": "python3"
  },
  "language_info": {
   "codemirror_mode": {
    "name": "ipython",
    "version": 3
   },
   "file_extension": ".py",
   "mimetype": "text/x-python",
   "name": "python",
   "nbconvert_exporter": "python",
   "pygments_lexer": "ipython3",
   "version": "3.12.7"
  }
 },
 "nbformat": 4,
 "nbformat_minor": 5
}
